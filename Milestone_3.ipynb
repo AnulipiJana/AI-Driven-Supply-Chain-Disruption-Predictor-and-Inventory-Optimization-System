{
  "nbformat": 4,
  "nbformat_minor": 0,
  "metadata": {
    "colab": {
      "provenance": [],
      "toc_visible": true,
      "authorship_tag": "ABX9TyOVv8jAq492mHQDSPoyuSVY",
      "include_colab_link": true
    },
    "kernelspec": {
      "name": "python3",
      "display_name": "Python 3"
    },
    "language_info": {
      "name": "python"
    }
  },
  "cells": [
    {
      "cell_type": "markdown",
      "metadata": {
        "id": "view-in-github",
        "colab_type": "text"
      },
      "source": [
        "<a href=\"https://colab.research.google.com/github/AnulipiJana/AI-Driven-Supply-Chain-Disruption-Predictor-and-Inventory-Optimization-System/blob/main/Milestone_3.ipynb\" target=\"_parent\"><img src=\"https://colab.research.google.com/assets/colab-badge.svg\" alt=\"Open In Colab\"/></a>"
      ]
    },
    {
      "cell_type": "markdown",
      "source": [
        "# ERP system implement"
      ],
      "metadata": {
        "id": "lFjiC6zYTv53"
      }
    },
    {
      "cell_type": "markdown",
      "source": [
        "## using API"
      ],
      "metadata": {
        "id": "22qVSTHBRHyh"
      }
    },
    {
      "cell_type": "code",
      "execution_count": null,
      "metadata": {
        "id": "AqGYxfz2QUvi"
      },
      "outputs": [],
      "source": [
        "import requests\n",
        "import pandas as pd\n",
        "\n",
        "ERP_API_URL = \"\"\n",
        "API_KEY = \"\"\n",
        "\n",
        "data = pd.read_csv(\"tomato_supply_chain_with_risk.csv\")\n",
        "\n",
        "# Function to send updates to ERP system\n",
        "def update_erp_inventory(row):\n",
        "    try:\n",
        "        # Define API endpoint for stock adjustments\n",
        "        endpoint = f\"{ERP_API_URL}/update_stock\"\n",
        "        headers = {\"Authorization\": f\"Bearer {API_KEY}\", \"Content-Type\": \"application/json\"}\n",
        "\n",
        "        # Prepare payload\n",
        "        payload = {\n",
        "            \"date\": row['Date'],\n",
        "            \"region\": row['Region'],\n",
        "            \"country\": row['Country'],\n",
        "            \"supplier\": row['Supplier'],\n",
        "            \"inventory_level\": row['Inventory Level'],\n",
        "            \"risk_score\": row['Risk Confidence'],\n",
        "            \"sentiment_score\": row['Sentiment Score'],\n",
        "            \"recommended_action\": \"increase_stock\" if row['Risk Confidence'] > 0.8 else \"maintain_stock\"\n",
        "        }\n",
        "\n",
        "        # Make POST request to ERP API\n",
        "        response = requests.post(endpoint, json=payload, headers=headers)\n",
        "        if response.status_code == 200:\n",
        "            print(f\"Successfully updated inventory for supplier: {row['Supplier']}\")\n",
        "        else:\n",
        "            print(f\"Failed to update inventory for supplier: {row['Supplier']} - {response.text}\")\n",
        "    except Exception as e:\n",
        "        print(f\"Error updating ERP inventory: {e}\")\n",
        "\n",
        "# Iterate through dataset and update ERP system\n",
        "for _, row in data.iterrows():\n",
        "    update_erp_inventory(row)"
      ]
    },
    {
      "cell_type": "markdown",
      "source": [
        "Fail to Fetch free api URL and api Key.\n",
        "## GitHub Clone"
      ],
      "metadata": {
        "id": "Q_vgr6FYTk4d"
      }
    },
    {
      "cell_type": "code",
      "source": [
        "!git clone https://github.com/nishant0820/Inventory-Management-System.git"
      ],
      "metadata": {
        "id": "tAhi_xxrRgKg"
      },
      "execution_count": null,
      "outputs": []
    },
    {
      "cell_type": "code",
      "source": [
        "%cd Inventory-Management-System"
      ],
      "metadata": {
        "id": "crv_rr0PRh6T"
      },
      "execution_count": null,
      "outputs": []
    },
    {
      "cell_type": "code",
      "source": [
        "ls"
      ],
      "metadata": {
        "id": "hKl08VMnRh20"
      },
      "execution_count": null,
      "outputs": []
    },
    {
      "cell_type": "code",
      "source": [
        "!python dashboard.py"
      ],
      "metadata": {
        "id": "THkmm5wrRhzy"
      },
      "execution_count": null,
      "outputs": []
    },
    {
      "cell_type": "markdown",
      "source": [
        "Doesn't support Tkinter\n",
        "## install virtual display"
      ],
      "metadata": {
        "id": "MHZ8Dp7ST99t"
      }
    },
    {
      "cell_type": "code",
      "source": [
        "!apt-get install -y xvfb\n",
        "!pip install pyvirtualdisplay"
      ],
      "metadata": {
        "id": "i08PVO9URhxL"
      },
      "execution_count": null,
      "outputs": []
    },
    {
      "cell_type": "code",
      "source": [
        "from pyvirtualdisplay import Display\n",
        "\n",
        "display = Display(visible=0, size=(800, 600))\n",
        "display.start()"
      ],
      "metadata": {
        "id": "cX8JSgUxRhua"
      },
      "execution_count": null,
      "outputs": []
    },
    {
      "cell_type": "markdown",
      "source": [
        "## Install requirment for cloning code"
      ],
      "metadata": {
        "id": "A9oCL5d7U0d3"
      }
    },
    {
      "cell_type": "code",
      "source": [
        "!pip install bill"
      ],
      "metadata": {
        "id": "xl8nrlGtUOgf"
      },
      "execution_count": null,
      "outputs": []
    },
    {
      "cell_type": "code",
      "source": [
        "from PIL import Image\n",
        "import glob\n",
        "\n",
        "def load_images_from_folder(folder_path):\n",
        "  \"\"\"\n",
        "  Loads all .jpg images from the specified folder.\n",
        "\n",
        "  Args:\n",
        "    folder_path: Path to the folder containing the images.\n",
        "\n",
        "  Returns:\n",
        "    A list of PIL Image objects.\n",
        "  \"\"\"\n",
        "  images = []\n",
        "  for filename in glob.glob(f\"{folder_path}/*.jpg\"):\n",
        "    try:\n",
        "      img = Image.open(filename)\n",
        "      images.append(img)\n",
        "    except IOError:\n",
        "      print(f\"Error loading image: {filename}\")\n",
        "  return images\n",
        "\n",
        "# Example usage:\n",
        "image_folder = \"/content/Inventory-Management-System/images\"  # Replace with the actual path\n",
        "image_list = load_images_from_folder(image_folder)"
      ],
      "metadata": {
        "id": "KiUTtTKzUOdD"
      },
      "execution_count": null,
      "outputs": []
    },
    {
      "cell_type": "code",
      "source": [
        "!python create_db.py"
      ],
      "metadata": {
        "id": "lOXw4de5UOaQ"
      },
      "execution_count": null,
      "outputs": []
    },
    {
      "cell_type": "code",
      "source": [
        "!python dashboard.py"
      ],
      "metadata": {
        "id": "VsaE8juYUOX_"
      },
      "execution_count": null,
      "outputs": []
    },
    {
      "cell_type": "code",
      "source": [],
      "metadata": {
        "id": "wJurEj5dWWYk"
      },
      "execution_count": null,
      "outputs": []
    },
    {
      "cell_type": "markdown",
      "source": [
        "## Main code"
      ],
      "metadata": {
        "id": "z_xLn5efji_X"
      }
    },
    {
      "cell_type": "code",
      "source": [
        "import pandas as pd\n",
        "\n",
        "def analyze_supply_chain_data(file_path):\n",
        "    # Load the CSV data\n",
        "    data = pd.read_csv(file_path)\n",
        "\n",
        "    # Define thresholds and conditions\n",
        "    warehouse_capacity_threshold = 0.8  # 80% capacity considered high\n",
        "    risk_score_threshold = 9.0  # Risk Score above 9 is considered high\n",
        "    sentiment_score_threshold = 6.0  # Sentiment Score below 6 is considered negative\n",
        "    alerts = []\n",
        "\n",
        "    for index, row in data.iterrows():\n",
        "        # Calculate warehouse utilization\n",
        "        utilization = row['Inventory'] / 10000  # Assuming max capacity is 10,000 units for all regions\n",
        "\n",
        "        # Analyze risk factors and sentiment\n",
        "        if utilization > warehouse_capacity_threshold or row['Risk Confidence'] > risk_score_threshold:\n",
        "            if row['Sentiment Score'] < sentiment_score_threshold:\n",
        "                alerts.append((row['Date'], \"SELL\", f\"High utilization ({utilization:.2f}), Risk Score {row['Risk Confidence']}, Negative sentiment (Score: {row['Sentiment Score']})\"))\n",
        "            else:\n",
        "                alerts.append((row['Date'], \"MONITOR\", f\"High utilization ({utilization:.2f}) with Risk Score {row['Risk Score']}\"))\n",
        "        elif utilization < 0.4:  # If utilization is very low\n",
        "            alerts.append((row['Date'], \"BUY\", f\"Low utilization ({utilization:.2f}), consider increasing stock\"))\n",
        "\n",
        "    return alerts\n",
        "\n",
        "# Replace 'your_dataset.csv' with your actual dataset file path\n",
        "file_path = \"/content/tomato_supply_chain_analysis_sentiment_and_risk.csv\"\n",
        "\n",
        "# Analyze the supply chain data\n",
        "alerts = analyze_supply_chain_data(file_path)\n",
        "\n",
        "# Display alerts\n",
        "for alert in alerts:\n",
        "    print(f\"Date: {alert[0]}, Action: {alert[1]}, Reason: {alert[2]}\")\n"
      ],
      "metadata": {
        "id": "J2ilPUnfWWVF"
      },
      "execution_count": null,
      "outputs": []
    },
    {
      "cell_type": "code",
      "source": [
        "# Convert alerts to a DataFrame and save to a CSV file\n",
        "alerts_df = pd.DataFrame(alerts)\n",
        "output_file = \"supply_chain_alerts.csv\"\n",
        "alerts_df.to_csv(output_file, index=False)\n",
        "\n",
        "print(f\"Alerts have been saved to '{output_file}'.\")"
      ],
      "metadata": {
        "id": "CcjhEupzWWSk"
      },
      "execution_count": null,
      "outputs": []
    },
    {
      "cell_type": "code",
      "source": [],
      "metadata": {
        "id": "jkPqI1SYUOVr"
      },
      "execution_count": null,
      "outputs": []
    }
  ]
}